{
  "nbformat": 4,
  "nbformat_minor": 0,
  "metadata": {
    "colab": {
      "provenance": [],
      "include_colab_link": true
    },
    "kernelspec": {
      "name": "python3",
      "display_name": "Python 3"
    },
    "language_info": {
      "name": "python"
    },
    "gpuClass": "standard"
  },
  "cells": [
    {
      "cell_type": "markdown",
      "metadata": {
        "id": "view-in-github",
        "colab_type": "text"
      },
      "source": [
        "<a href=\"https://colab.research.google.com/github/Ujjwalb2/investx/blob/main/Untitled2.ipynb\" target=\"_parent\"><img src=\"https://colab.research.google.com/assets/colab-badge.svg\" alt=\"Open In Colab\"/></a>"
      ]
    },
    {
      "cell_type": "code",
      "execution_count": 40,
      "metadata": {
        "id": "F3NmyDkdaw3f"
      },
      "outputs": [],
      "source": [
        "import numpy as np\n",
        "from tensorflow.keras.models import Sequential\n",
        "from tensorflow.keras.layers import LSTM\n",
        "from tensorflow.keras.layers import Dense, Dropout\n",
        "import pandas as pd\n",
        "from matplotlib import pyplot as plt\n",
        "from sklearn.preprocessing import StandardScaler\n",
        "import seaborn as sns\n",
        "#from datetime import datetime"
      ]
    },
    {
      "cell_type": "code",
      "source": [
        "df = pd.read_csv('/content/Train (1).csv')\n",
        "print(df.head())\n",
        "df=df.head(150)"
      ],
      "metadata": {
        "colab": {
          "base_uri": "https://localhost:8080/"
        },
        "id": "9aH7bA5fdNV8",
        "outputId": "ab37666f-c264-4c2d-bd68-64d75bfcf754"
      },
      "execution_count": 59,
      "outputs": [
        {
          "output_type": "stream",
          "name": "stdout",
          "text": [
            "         Date    Stock  liabilities      equity  total_assets  current_assets  \\\n",
            "0  31-07-2006  Stock 1   625.898686  925.086518   1550.985204      675.789906   \n",
            "1  31-08-2006  Stock 1   407.387467  903.249093   1310.636561     1023.110983   \n",
            "2  29-09-2006  Stock 1   464.069890  602.668832   1066.738722      709.711673   \n",
            "3  31-10-2006  Stock 1   855.854937  391.375369   1247.230306      649.979564   \n",
            "4  30-11-2006  Stock 1   453.954969  956.490566   1410.445534     1115.594551   \n",
            "\n",
            "   current_liabilities  total_revenue  net_income   dividend  \\\n",
            "0           555.931328     548.488451  251.282553  68.184030   \n",
            "1          1295.186240     513.446432  207.576940  42.232672   \n",
            "2           598.719338     503.519871  133.719700  28.835722   \n",
            "3           733.594339     596.006397  -76.881818   0.000000   \n",
            "4          1152.274711     965.939247 -309.204301   0.000000   \n",
            "\n",
            "   shares_outstanding       price  \n",
            "0             1040831  100.000000  \n",
            "1             1046649  101.924169  \n",
            "2             1094158  103.166191  \n",
            "3             1018574  104.478956  \n",
            "4             1036293  104.160907  \n"
          ]
        }
      ]
    },
    {
      "cell_type": "code",
      "source": [
        "cols = list(df)[2:12]\n",
        "print(cols)"
      ],
      "metadata": {
        "colab": {
          "base_uri": "https://localhost:8080/"
        },
        "id": "YLtCdVuQdaqD",
        "outputId": "010b6839-f003-4d29-805a-e0eeb6ebfbd8"
      },
      "execution_count": 60,
      "outputs": [
        {
          "output_type": "stream",
          "name": "stdout",
          "text": [
            "['liabilities', 'equity', 'total_assets', 'current_assets', 'current_liabilities', 'total_revenue', 'net_income', 'dividend', 'shares_outstanding', 'price']\n"
          ]
        }
      ]
    },
    {
      "cell_type": "code",
      "source": [
        "df_for_training = df[cols].astype(float)"
      ],
      "metadata": {
        "id": "kW6fJrsveCsy"
      },
      "execution_count": 61,
      "outputs": []
    },
    {
      "cell_type": "code",
      "source": [
        "scaler = StandardScaler()\n",
        "scaler = scaler.fit(df_for_training)\n",
        "df_for_training_scaled = scaler.transform(df_for_training)"
      ],
      "metadata": {
        "id": "sMJHDh0Eea0u"
      },
      "execution_count": 62,
      "outputs": []
    },
    {
      "cell_type": "code",
      "source": [
        "trainX = []\n",
        "trainY = []"
      ],
      "metadata": {
        "id": "UXLCuxpYefYU"
      },
      "execution_count": 63,
      "outputs": []
    },
    {
      "cell_type": "code",
      "source": [
        "n_future = 1   # Number of days we want to look into the future based on the past days.\n",
        "n_past = 14 # Number of past days we want to use to predict the future."
      ],
      "metadata": {
        "id": "SlZmQQHaepNo"
      },
      "execution_count": 64,
      "outputs": []
    },
    {
      "cell_type": "code",
      "source": [
        "for i in range(n_past, len(df_for_training_scaled) - n_future +1):\n",
        "    trainX.append(df_for_training_scaled[i - n_past:i, 0:df_for_training.shape[1]])\n",
        "    trainY.append(df_for_training_scaled[i + n_future - 1:i + n_future, 9])\n",
        "\n",
        "trainX, trainY = np.array(trainX), np.array(trainY)\n",
        "\n",
        "print('trainX shape == {}.'.format(trainX.shape))\n",
        "print('trainY shape == {}.'.format(trainY.shape))"
      ],
      "metadata": {
        "colab": {
          "base_uri": "https://localhost:8080/"
        },
        "id": "9UGlhknUfFXB",
        "outputId": "8580083a-96a1-447e-bea9-b31f95105a3a"
      },
      "execution_count": 65,
      "outputs": [
        {
          "output_type": "stream",
          "name": "stdout",
          "text": [
            "trainX shape == (136, 14, 10).\n",
            "trainY shape == (136, 1).\n"
          ]
        }
      ]
    },
    {
      "cell_type": "code",
      "source": [
        "df_for_training_scaled"
      ],
      "metadata": {
        "colab": {
          "base_uri": "https://localhost:8080/"
        },
        "id": "Mf2hun7pvqvf",
        "outputId": "f0a6d090-a422-4b66-8eb1-f8405b33497b"
      },
      "execution_count": 66,
      "outputs": [
        {
          "output_type": "execute_result",
          "data": {
            "text/plain": [
              "array([[ 0.25220378,  1.41884066,  1.28105593, ...,  1.83696687,\n",
              "        -0.33248576, -2.39597646],\n",
              "       [-0.59414981,  1.34029146,  0.61107448, ...,  0.87868441,\n",
              "        -0.12707445, -2.14167173],\n",
              "       [-0.37460332,  0.25910443, -0.0688005 , ...,  0.38398725,\n",
              "         1.55028652, -1.97752194],\n",
              "       ...,\n",
              "       [-1.25021177,  0.92718225, -0.18122825, ..., -0.68080352,\n",
              "         1.33922622,  0.45098837],\n",
              "       [ 0.95077629,  0.38434975,  0.98211698, ..., -0.68080352,\n",
              "        -0.14949387,  0.29755242],\n",
              "       [ 0.68338604,  0.6752647 ,  1.01512818, ..., -0.68080352,\n",
              "         0.83872591,  0.20597296]])"
            ]
          },
          "metadata": {},
          "execution_count": 66
        }
      ]
    },
    {
      "cell_type": "code",
      "source": [
        "trainY"
      ],
      "metadata": {
        "colab": {
          "base_uri": "https://localhost:8080/"
        },
        "id": "A4HvqbAkv1ZW",
        "outputId": "321c8d7d-0064-4ff7-f928-a9b1e8592856"
      },
      "execution_count": 67,
      "outputs": [
        {
          "output_type": "execute_result",
          "data": {
            "text/plain": [
              "array([[-1.29336659],\n",
              "       [-1.47769308],\n",
              "       [-1.39607302],\n",
              "       [-1.48510424],\n",
              "       [-1.5262249 ],\n",
              "       [-1.43369363],\n",
              "       [-1.29010226],\n",
              "       [-1.37039056],\n",
              "       [-1.54880656],\n",
              "       [-1.76081581],\n",
              "       [-1.69680298],\n",
              "       [-1.6323744 ],\n",
              "       [-1.5422965 ],\n",
              "       [-1.4960694 ],\n",
              "       [-1.44809413],\n",
              "       [-1.39580814],\n",
              "       [-1.17350716],\n",
              "       [-1.13197986],\n",
              "       [-0.95825406],\n",
              "       [-0.76492415],\n",
              "       [-0.47399161],\n",
              "       [-0.45596222],\n",
              "       [-0.51737493],\n",
              "       [-0.63911434],\n",
              "       [-0.78122505],\n",
              "       [-0.74318884],\n",
              "       [-0.71427425],\n",
              "       [-0.60842931],\n",
              "       [-0.56264839],\n",
              "       [-0.59513762],\n",
              "       [-0.48704487],\n",
              "       [-0.55989147],\n",
              "       [-0.50403421],\n",
              "       [-0.31532371],\n",
              "       [-0.24776968],\n",
              "       [-0.24399868],\n",
              "       [-0.17562414],\n",
              "       [-0.0511738 ],\n",
              "       [-0.27321327],\n",
              "       [-0.29749954],\n",
              "       [-0.1927685 ],\n",
              "       [-0.10050399],\n",
              "       [-0.03464018],\n",
              "       [ 0.07409369],\n",
              "       [ 0.00314231],\n",
              "       [-0.12513687],\n",
              "       [-0.30817285],\n",
              "       [-0.42448079],\n",
              "       [-0.3292571 ],\n",
              "       [-0.20683007],\n",
              "       [ 0.03884817],\n",
              "       [ 0.18756504],\n",
              "       [ 0.32675634],\n",
              "       [ 0.57092228],\n",
              "       [ 0.55311357],\n",
              "       [ 0.48878321],\n",
              "       [ 0.71853068],\n",
              "       [ 0.60891002],\n",
              "       [ 0.40620823],\n",
              "       [ 0.49861338],\n",
              "       [ 0.48324294],\n",
              "       [ 0.57509642],\n",
              "       [ 0.45668604],\n",
              "       [ 0.52523106],\n",
              "       [ 0.50042148],\n",
              "       [ 0.59367103],\n",
              "       [ 0.55398535],\n",
              "       [ 0.54335663],\n",
              "       [ 0.48116269],\n",
              "       [ 0.53596465],\n",
              "       [ 0.69310452],\n",
              "       [ 0.85796226],\n",
              "       [ 0.75673772],\n",
              "       [ 0.64611571],\n",
              "       [ 0.49827451],\n",
              "       [ 0.47793934],\n",
              "       [ 0.34195415],\n",
              "       [ 0.42691103],\n",
              "       [ 0.58444066],\n",
              "       [ 0.78550321],\n",
              "       [ 0.93675606],\n",
              "       [ 0.93281947],\n",
              "       [ 1.03966419],\n",
              "       [ 1.11073764],\n",
              "       [ 1.06120214],\n",
              "       [ 1.07970019],\n",
              "       [ 1.2515641 ],\n",
              "       [ 1.19898219],\n",
              "       [ 1.04848392],\n",
              "       [ 0.9439366 ],\n",
              "       [ 0.83428967],\n",
              "       [ 0.9119911 ],\n",
              "       [ 0.89484564],\n",
              "       [ 1.05318068],\n",
              "       [ 1.13638389],\n",
              "       [ 1.25854994],\n",
              "       [ 1.18331575],\n",
              "       [ 1.11257775],\n",
              "       [ 0.94915702],\n",
              "       [ 1.02740371],\n",
              "       [ 1.16166135],\n",
              "       [ 1.11606533],\n",
              "       [ 0.98602703],\n",
              "       [ 1.09430255],\n",
              "       [ 1.06116374],\n",
              "       [ 1.02768698],\n",
              "       [ 0.99121483],\n",
              "       [ 1.03037995],\n",
              "       [ 0.96294189],\n",
              "       [ 1.09643847],\n",
              "       [ 1.07483868],\n",
              "       [ 0.92337973],\n",
              "       [ 0.81596541],\n",
              "       [ 0.91621922],\n",
              "       [ 1.05793116],\n",
              "       [ 0.9050999 ],\n",
              "       [ 0.63731187],\n",
              "       [ 0.63570799],\n",
              "       [ 0.67817215],\n",
              "       [ 0.63837433],\n",
              "       [ 0.56329251],\n",
              "       [ 0.45416643],\n",
              "       [ 0.66907438],\n",
              "       [ 0.66418559],\n",
              "       [ 0.58592159],\n",
              "       [ 0.73892852],\n",
              "       [ 0.98049648],\n",
              "       [ 0.91736702],\n",
              "       [ 0.72142052],\n",
              "       [ 0.69320167],\n",
              "       [ 0.57881276],\n",
              "       [ 0.36565776],\n",
              "       [ 0.35529721],\n",
              "       [ 0.45098837],\n",
              "       [ 0.29755242],\n",
              "       [ 0.20597296]])"
            ]
          },
          "metadata": {},
          "execution_count": 67
        }
      ]
    },
    {
      "cell_type": "code",
      "source": [
        "model = Sequential()\n",
        "model.add(LSTM(64, activation='relu', input_shape=(trainX.shape[1], trainX.shape[2]), return_sequences=True)) \n",
        "model.add(LSTM(32, activation='relu', return_sequences=False))\n",
        "model.add(Dropout(0.2))\n",
        "model.add(Dense(trainY.shape[1]))\n",
        "\n",
        "model.compile(optimizer='adam', loss='mse')\n",
        "model.summary()"
      ],
      "metadata": {
        "colab": {
          "base_uri": "https://localhost:8080/"
        },
        "id": "xLJ_fEZ8foI3",
        "outputId": "e31ebc72-885f-4865-c700-4d1aba031d99"
      },
      "execution_count": 68,
      "outputs": [
        {
          "output_type": "stream",
          "name": "stdout",
          "text": [
            "Model: \"sequential_2\"\n",
            "_________________________________________________________________\n",
            " Layer (type)                Output Shape              Param #   \n",
            "=================================================================\n",
            " lstm_4 (LSTM)               (None, 14, 64)            19200     \n",
            "                                                                 \n",
            " lstm_5 (LSTM)               (None, 32)                12416     \n",
            "                                                                 \n",
            " dropout_2 (Dropout)         (None, 32)                0         \n",
            "                                                                 \n",
            " dense_2 (Dense)             (None, 1)                 33        \n",
            "                                                                 \n",
            "=================================================================\n",
            "Total params: 31,649\n",
            "Trainable params: 31,649\n",
            "Non-trainable params: 0\n",
            "_________________________________________________________________\n"
          ]
        }
      ]
    },
    {
      "cell_type": "code",
      "source": [
        "history = model.fit(trainX, trainY, epochs=5, batch_size=3, validation_split=0.1, verbose=1)"
      ],
      "metadata": {
        "colab": {
          "base_uri": "https://localhost:8080/"
        },
        "id": "gR-gELFqhCt3",
        "outputId": "d157fa98-7c0e-403b-b8f5-50b4c2af8fad"
      },
      "execution_count": 69,
      "outputs": [
        {
          "output_type": "stream",
          "name": "stdout",
          "text": [
            "Epoch 1/5\n",
            "41/41 [==============================] - 5s 33ms/step - loss: 0.4391 - val_loss: 0.0627\n",
            "Epoch 2/5\n",
            "41/41 [==============================] - 1s 16ms/step - loss: 0.1216 - val_loss: 0.0526\n",
            "Epoch 3/5\n",
            "41/41 [==============================] - 1s 16ms/step - loss: 0.0707 - val_loss: 0.0489\n",
            "Epoch 4/5\n",
            "41/41 [==============================] - 1s 17ms/step - loss: 0.0620 - val_loss: 0.0447\n",
            "Epoch 5/5\n",
            "41/41 [==============================] - 1s 16ms/step - loss: 0.0460 - val_loss: 0.0488\n"
          ]
        }
      ]
    },
    {
      "cell_type": "code",
      "source": [
        "plt.plot(history.history['loss'], label='Training loss')\n",
        "plt.plot(history.history['val_loss'], label='Validation loss')\n",
        "plt.legend()"
      ],
      "metadata": {
        "colab": {
          "base_uri": "https://localhost:8080/",
          "height": 447
        },
        "id": "ReHWBQ1VhKzd",
        "outputId": "84029f92-255e-4831-b6c0-01987bb9e72c"
      },
      "execution_count": 70,
      "outputs": [
        {
          "output_type": "execute_result",
          "data": {
            "text/plain": [
              "<matplotlib.legend.Legend at 0x7f7027012b90>"
            ]
          },
          "metadata": {},
          "execution_count": 70
        },
        {
          "output_type": "display_data",
          "data": {
            "text/plain": [
              "<Figure size 640x480 with 1 Axes>"
            ],
            "image/png": "[encoded data removed]"
          },
          "metadata": {}
        }
      ]
    },
    {
      "cell_type": "code",
      "source": [
        "from pandas.tseries.holiday import USFederalHolidayCalendar\n",
        "from pandas.tseries.offsets import CustomBusinessDay\n",
        "us_bd = CustomBusinessDay(calendar=USFederalHolidayCalendar())"
      ],
      "metadata": {
        "id": "ncph6lCWjfQ_"
      },
      "execution_count": 71,
      "outputs": []
    },
    {
      "cell_type": "code",
      "source": [
        "df2= df.head(150)\n",
        "train_dates = pd.to_datetime(df2['Date'])\n",
        "print(train_dates.tail(15)) "
      ],
      "metadata": {
        "colab": {
          "base_uri": "https://localhost:8080/"
        },
        "id": "DSZrHFBYj7iK",
        "outputId": "01d7eba7-1cd8-405c-ae54-aad693585b4b"
      },
      "execution_count": 72,
      "outputs": [
        {
          "output_type": "stream",
          "name": "stdout",
          "text": [
            "135   2017-10-31\n",
            "136   2017-11-30\n",
            "137   2017-12-29\n",
            "138   2018-01-31\n",
            "139   2018-02-28\n",
            "140   2018-03-30\n",
            "141   2018-04-30\n",
            "142   2018-05-31\n",
            "143   2018-06-29\n",
            "144   2018-07-31\n",
            "145   2018-08-31\n",
            "146   2018-09-28\n",
            "147   2018-10-31\n",
            "148   2018-11-30\n",
            "149   2018-12-31\n",
            "Name: Date, dtype: datetime64[ns]\n"
          ]
        },
        {
          "output_type": "stream",
          "name": "stderr",
          "text": [
            "<ipython-input-72-8e23a519e50a>:2: UserWarning: Parsing dates in DD/MM/YYYY format when dayfirst=False (the default) was specified. This may lead to inconsistently parsed dates! Specify a format to ensure consistent parsing.\n",
            "  train_dates = pd.to_datetime(df2['Date'])\n"
          ]
        }
      ]
    },
    {
      "cell_type": "code",
      "source": [
        "n_past = 4\n",
        "n_days_for_prediction=100  #let us predict past 15 days\n",
        "\n",
        "predict_period_dates = pd.date_range(list(train_dates)[-n_past], periods=n_days_for_prediction, freq='M').tolist()\n",
        "print(predict_period_dates)"
      ],
      "metadata": {
        "colab": {
          "base_uri": "https://localhost:8080/"
        },
        "id": "yAZn0dxejZ-b",
        "outputId": "106026ef-5a7d-4162-b9db-1257060cfe5f"
      },
      "execution_count": 73,
      "outputs": [
        {
          "output_type": "stream",
          "name": "stdout",
          "text": [
            "[Timestamp('2018-09-30 00:00:00', freq='M'), Timestamp('2018-10-31 00:00:00', freq='M'), Timestamp('2018-11-30 00:00:00', freq='M'), Timestamp('2018-12-31 00:00:00', freq='M'), Timestamp('2019-01-31 00:00:00', freq='M'), Timestamp('2019-02-28 00:00:00', freq='M'), Timestamp('2019-03-31 00:00:00', freq='M'), Timestamp('2019-04-30 00:00:00', freq='M'), Timestamp('2019-05-31 00:00:00', freq='M'), Timestamp('2019-06-30 00:00:00', freq='M'), Timestamp('2019-07-31 00:00:00', freq='M'), Timestamp('2019-08-31 00:00:00', freq='M'), Timestamp('2019-09-30 00:00:00', freq='M'), Timestamp('2019-10-31 00:00:00', freq='M'), Timestamp('2019-11-30 00:00:00', freq='M'), Timestamp('2019-12-31 00:00:00', freq='M'), Timestamp('2020-01-31 00:00:00', freq='M'), Timestamp('2020-02-29 00:00:00', freq='M'), Timestamp('2020-03-31 00:00:00', freq='M'), Timestamp('2020-04-30 00:00:00', freq='M'), Timestamp('2020-05-31 00:00:00', freq='M'), Timestamp('2020-06-30 00:00:00', freq='M'), Timestamp('2020-07-31 00:00:00', freq='M'), Timestamp('2020-08-31 00:00:00', freq='M'), Timestamp('2020-09-30 00:00:00', freq='M'), Timestamp('2020-10-31 00:00:00', freq='M'), Timestamp('2020-11-30 00:00:00', freq='M'), Timestamp('2020-12-31 00:00:00', freq='M'), Timestamp('2021-01-31 00:00:00', freq='M'), Timestamp('2021-02-28 00:00:00', freq='M'), Timestamp('2021-03-31 00:00:00', freq='M'), Timestamp('2021-04-30 00:00:00', freq='M'), Timestamp('2021-05-31 00:00:00', freq='M'), Timestamp('2021-06-30 00:00:00', freq='M'), Timestamp('2021-07-31 00:00:00', freq='M'), Timestamp('2021-08-31 00:00:00', freq='M'), Timestamp('2021-09-30 00:00:00', freq='M'), Timestamp('2021-10-31 00:00:00', freq='M'), Timestamp('2021-11-30 00:00:00', freq='M'), Timestamp('2021-12-31 00:00:00', freq='M'), Timestamp('2022-01-31 00:00:00', freq='M'), Timestamp('2022-02-28 00:00:00', freq='M'), Timestamp('2022-03-31 00:00:00', freq='M'), Timestamp('2022-04-30 00:00:00', freq='M'), Timestamp('2022-05-31 00:00:00', freq='M'), Timestamp('2022-06-30 00:00:00', freq='M'), Timestamp('2022-07-31 00:00:00', freq='M'), Timestamp('2022-08-31 00:00:00', freq='M'), Timestamp('2022-09-30 00:00:00', freq='M'), Timestamp('2022-10-31 00:00:00', freq='M'), Timestamp('2022-11-30 00:00:00', freq='M'), Timestamp('2022-12-31 00:00:00', freq='M'), Timestamp('2023-01-31 00:00:00', freq='M'), Timestamp('2023-02-28 00:00:00', freq='M'), Timestamp('2023-03-31 00:00:00', freq='M'), Timestamp('2023-04-30 00:00:00', freq='M'), Timestamp('2023-05-31 00:00:00', freq='M'), Timestamp('2023-06-30 00:00:00', freq='M'), Timestamp('2023-07-31 00:00:00', freq='M'), Timestamp('2023-08-31 00:00:00', freq='M'), Timestamp('2023-09-30 00:00:00', freq='M'), Timestamp('2023-10-31 00:00:00', freq='M'), Timestamp('2023-11-30 00:00:00', freq='M'), Timestamp('2023-12-31 00:00:00', freq='M'), Timestamp('2024-01-31 00:00:00', freq='M'), Timestamp('2024-02-29 00:00:00', freq='M'), Timestamp('2024-03-31 00:00:00', freq='M'), Timestamp('2024-04-30 00:00:00', freq='M'), Timestamp('2024-05-31 00:00:00', freq='M'), Timestamp('2024-06-30 00:00:00', freq='M'), Timestamp('2024-07-31 00:00:00', freq='M'), Timestamp('2024-08-31 00:00:00', freq='M'), Timestamp('2024-09-30 00:00:00', freq='M'), Timestamp('2024-10-31 00:00:00', freq='M'), Timestamp('2024-11-30 00:00:00', freq='M'), Timestamp('2024-12-31 00:00:00', freq='M'), Timestamp('2025-01-31 00:00:00', freq='M'), Timestamp('2025-02-28 00:00:00', freq='M'), Timestamp('2025-03-31 00:00:00', freq='M'), Timestamp('2025-04-30 00:00:00', freq='M'), Timestamp('2025-05-31 00:00:00', freq='M'), Timestamp('2025-06-30 00:00:00', freq='M'), Timestamp('2025-07-31 00:00:00', freq='M'), Timestamp('2025-08-31 00:00:00', freq='M'), Timestamp('2025-09-30 00:00:00', freq='M'), Timestamp('2025-10-31 00:00:00', freq='M'), Timestamp('2025-11-30 00:00:00', freq='M'), Timestamp('2025-12-31 00:00:00', freq='M'), Timestamp('2026-01-31 00:00:00', freq='M'), Timestamp('2026-02-28 00:00:00', freq='M'), Timestamp('2026-03-31 00:00:00', freq='M'), Timestamp('2026-04-30 00:00:00', freq='M'), Timestamp('2026-05-31 00:00:00', freq='M'), Timestamp('2026-06-30 00:00:00', freq='M'), Timestamp('2026-07-31 00:00:00', freq='M'), Timestamp('2026-08-31 00:00:00', freq='M'), Timestamp('2026-09-30 00:00:00', freq='M'), Timestamp('2026-10-31 00:00:00', freq='M'), Timestamp('2026-11-30 00:00:00', freq='M'), Timestamp('2026-12-31 00:00:00', freq='M')]\n"
          ]
        }
      ]
    },
    {
      "cell_type": "code",
      "source": [
        "prediction = model.predict(trainX[-n_days_for_prediction:]) "
      ],
      "metadata": {
        "colab": {
          "base_uri": "https://localhost:8080/"
        },
        "id": "omuhi-fFjuzK",
        "outputId": "2e5b6656-8400-4a70-bea7-376578d8d87f"
      },
      "execution_count": 74,
      "outputs": [
        {
          "output_type": "stream",
          "name": "stdout",
          "text": [
            "4/4 [==============================] - 0s 9ms/step\n"
          ]
        }
      ]
    },
    {
      "cell_type": "code",
      "source": [
        "prediction_copies = np.repeat(prediction, df_for_training.shape[1], axis=-1)\n",
        "y_pred_future = scaler.inverse_transform(prediction_copies)[:,9]"
      ],
      "metadata": {
        "id": "A68cGGUlkLp7"
      },
      "execution_count": 75,
      "outputs": []
    },
    {
      "cell_type": "code",
      "source": [
        "forecast_dates = []\n",
        "for time_i in predict_period_dates:\n",
        "    forecast_dates.append(time_i.date())\n",
        "    \n",
        "df_forecast = pd.DataFrame({'Date':np.array(forecast_dates), 'price':y_pred_future})\n",
        "df_forecast['Date']=pd.to_datetime(df_forecast['Date'])"
      ],
      "metadata": {
        "id": "RRg0e30rkPIK"
      },
      "execution_count": 76,
      "outputs": []
    },
    {
      "cell_type": "code",
      "source": [
        "original = df[['Date', 'price']]\n",
        "original['Date']=pd.to_datetime(original['Date'])\n",
        "original\n"
      ],
      "metadata": {
        "colab": {
          "base_uri": "https://localhost:8080/",
          "height": 582
        },
        "id": "7PbdmSaPkUK7",
        "outputId": "7ab25de9-7a9b-4fea-f00c-51b3cac1462e"
      },
      "execution_count": 77,
      "outputs": [
        {
          "output_type": "stream",
          "name": "stderr",
          "text": [
            "<ipython-input-77-20f60c629b61>:2: UserWarning: Parsing dates in DD/MM/YYYY format when dayfirst=False (the default) was specified. This may lead to inconsistently parsed dates! Specify a format to ensure consistent parsing.\n",
            "  original['Date']=pd.to_datetime(original['Date'])\n",
            "<ipython-input-77-20f60c629b61>:2: SettingWithCopyWarning: \n",
            "A value is trying to be set on a copy of a slice from a DataFrame.\n",
            "Try using .loc[row_indexer,col_indexer] = value instead\n",
            "\n",
            "See the caveats in the documentation: https://pandas.pydata.org/pandas-docs/stable/user_guide/indexing.html#returning-a-view-versus-a-copy\n",
            "  original['Date']=pd.to_datetime(original['Date'])\n"
          ]
        },
        {
          "output_type": "execute_result",
          "data": {
            "text/plain": [
              "          Date       price\n",
              "0   2006-07-31  100.000000\n",
              "1   2006-08-31  101.924169\n",
              "2   2006-09-29  103.166191\n",
              "3   2006-10-31  104.478956\n",
              "4   2006-11-30  104.160907\n",
              "..         ...         ...\n",
              "145 2018-08-31  120.895608\n",
              "146 2018-09-28  120.817217\n",
              "147 2018-10-31  121.541253\n",
              "148 2018-11-30  120.380297\n",
              "149 2018-12-31  119.687371\n",
              "\n",
              "[150 rows x 2 columns]"
            ],
            "text/html": [
              "\n",
              "  <div id=\"df-b7b8d83a-739e-4b0a-9194-af9e15c73d99\">\n",
              "    <div class=\"colab-df-container\">\n",
              "      <div>\n",
              "<style scoped>\n",
              "    .dataframe tbody tr th:only-of-type {\n",
              "        vertical-align: middle;\n",
              "    }\n",
              "\n",
              "    .dataframe tbody tr th {\n",
              "        vertical-align: top;\n",
              "    }\n",
              "\n",
              "    .dataframe thead th {\n",
              "        text-align: right;\n",
              "    }\n",
              "</style>\n",
              "<table border=\"1\" class=\"dataframe\">\n",
              "  <thead>\n",
              "    <tr style=\"text-align: right;\">\n",
              "      <th></th>\n",
              "      <th>Date</th>\n",
              "      <th>price</th>\n",
              "    </tr>\n",
              "  </thead>\n",
              "  <tbody>\n",
              "    <tr>\n",
              "      <th>0</th>\n",
              "      <td>2006-07-31</td>\n",
              "      <td>100.000000</td>\n",
              "    </tr>\n",
              "    <tr>\n",
              "      <th>1</th>\n",
              "      <td>2006-08-31</td>\n",
              "      <td>101.924169</td>\n",
              "    </tr>\n",
              "    <tr>\n",
              "      <th>2</th>\n",
              "      <td>2006-09-29</td>\n",
              "      <td>103.166191</td>\n",
              "    </tr>\n",
              "    <tr>\n",
              "      <th>3</th>\n",
              "      <td>2006-10-31</td>\n",
              "      <td>104.478956</td>\n",
              "    </tr>\n",
              "    <tr>\n",
              "      <th>4</th>\n",
              "      <td>2006-11-30</td>\n",
              "      <td>104.160907</td>\n",
              "    </tr>\n",
              "    <tr>\n",
              "      <th>...</th>\n",
              "      <td>...</td>\n",
              "      <td>...</td>\n",
              "    </tr>\n",
              "    <tr>\n",
              "      <th>145</th>\n",
              "      <td>2018-08-31</td>\n",
              "      <td>120.895608</td>\n",
              "    </tr>\n",
              "    <tr>\n",
              "      <th>146</th>\n",
              "      <td>2018-09-28</td>\n",
              "      <td>120.817217</td>\n",
              "    </tr>\n",
              "    <tr>\n",
              "      <th>147</th>\n",
              "      <td>2018-10-31</td>\n",
              "      <td>121.541253</td>\n",
              "    </tr>\n",
              "    <tr>\n",
              "      <th>148</th>\n",
              "      <td>2018-11-30</td>\n",
              "      <td>120.380297</td>\n",
              "    </tr>\n",
              "    <tr>\n",
              "      <th>149</th>\n",
              "      <td>2018-12-31</td>\n",
              "      <td>119.687371</td>\n",
              "    </tr>\n",
              "  </tbody>\n",
              "</table>\n",
              "<p>150 rows × 2 columns</p>\n",
              "</div>\n",
              "      <button class=\"colab-df-convert\" onclick=\"convertToInteractive('df-b7b8d83a-739e-4b0a-9194-af9e15c73d99')\"\n",
              "              title=\"Convert this dataframe to an interactive table.\"\n",
              "              style=\"display:none;\">\n",
              "        \n",
              "  <svg xmlns=\"http://www.w3.org/2000/svg\" height=\"24px\"viewBox=\"0 0 24 24\"\n",
              "       width=\"24px\">\n",
              "    <path d=\"M0 0h24v24H0V0z\" fill=\"none\"/>\n",
              "    <path d=\"M18.56 5.44l.94 2.06.94-2.06 2.06-.94-2.06-.94-.94-2.06-.94 2.06-2.06.94zm-11 1L8.5 8.5l.94-2.06 2.06-.94-2.06-.94L8.5 2.5l-.94 2.06-2.06.94zm10 10l.94 2.06.94-2.06 2.06-.94-2.06-.94-.94-2.06-.94 2.06-2.06.94z\"/><path d=\"M17.41 7.96l-1.37-1.37c-.4-.4-.92-.59-1.43-.59-.52 0-1.04.2-1.43.59L10.3 9.45l-7.72 7.72c-.78.78-.78 2.05 0 2.83L4 21.41c.39.39.9.59 1.41.59.51 0 1.02-.2 1.41-.59l7.78-7.78 2.81-2.81c.8-.78.8-2.07 0-2.86zM5.41 20L4 18.59l7.72-7.72 1.47 1.35L5.41 20z\"/>\n",
              "  </svg>\n",
              "      </button>\n",
              "      \n",
              "  <style>\n",
              "    .colab-df-container {\n",
              "      display:flex;\n",
              "      flex-wrap:wrap;\n",
              "      gap: 12px;\n",
              "    }\n",
              "\n",
              "    .colab-df-convert {\n",
              "      background-color: #E8F0FE;\n",
              "      border: none;\n",
              "      border-radius: 50%;\n",
              "      cursor: pointer;\n",
              "      display: none;\n",
              "      fill: #1967D2;\n",
              "      height: 32px;\n",
              "      padding: 0 0 0 0;\n",
              "      width: 32px;\n",
              "    }\n",
              "\n",
              "    .colab-df-convert:hover {\n",
              "      background-color: #E2EBFA;\n",
              "      box-shadow: 0px 1px 2px rgba(60, 64, 67, 0.3), 0px 1px 3px 1px rgba(60, 64, 67, 0.15);\n",
              "      fill: #174EA6;\n",
              "    }\n",
              "\n",
              "    [theme=dark] .colab-df-convert {\n",
              "      background-color: #3B4455;\n",
              "      fill: #D2E3FC;\n",
              "    }\n",
              "\n",
              "    [theme=dark] .colab-df-convert:hover {\n",
              "      background-color: #434B5C;\n",
              "      box-shadow: 0px 1px 3px 1px rgba(0, 0, 0, 0.15);\n",
              "      filter: drop-shadow(0px 1px 2px rgba(0, 0, 0, 0.3));\n",
              "      fill: #FFFFFF;\n",
              "    }\n",
              "  </style>\n",
              "\n",
              "      <script>\n",
              "        const buttonEl =\n",
              "          document.querySelector('#df-b7b8d83a-739e-4b0a-9194-af9e15c73d99 button.colab-df-convert');\n",
              "        buttonEl.style.display =\n",
              "          google.colab.kernel.accessAllowed ? 'block' : 'none';\n",
              "\n",
              "        async function convertToInteractive(key) {\n",
              "          const element = document.querySelector('#df-b7b8d83a-739e-4b0a-9194-af9e15c73d99');\n",
              "          const dataTable =\n",
              "            await google.colab.kernel.invokeFunction('convertToInteractive',\n",
              "                                                     [key], {});\n",
              "          if (!dataTable) return;\n",
              "\n",
              "          const docLinkHtml = 'Like what you see? Visit the ' +\n",
              "            '<a target=\"_blank\" href=https://colab.research.google.com/notebooks/data_table.ipynb>data table notebook</a>'\n",
              "            + ' to learn more about interactive tables.';\n",
              "          element.innerHTML = '';\n",
              "          dataTable['output_type'] = 'display_data';\n",
              "          await google.colab.output.renderOutput(dataTable, element);\n",
              "          const docLink = document.createElement('div');\n",
              "          docLink.innerHTML = docLinkHtml;\n",
              "          element.appendChild(docLink);\n",
              "        }\n",
              "      </script>\n",
              "    </div>\n",
              "  </div>\n",
              "  "
            ]
          },
          "metadata": {},
          "execution_count": 77
        }
      ]
    },
    {
      "cell_type": "code",
      "source": [
        "df_forecast"
      ],
      "metadata": {
        "colab": {
          "base_uri": "https://localhost:8080/",
          "height": 423
        },
        "id": "uQKHlrzh2Jl6",
        "outputId": "930e2702-2f1f-41c0-a21a-d5f39b63841c"
      },
      "execution_count": 78,
      "outputs": [
        {
          "output_type": "execute_result",
          "data": {
            "text/plain": [
              "         Date       price\n",
              "0  2018-09-30  117.666496\n",
              "1  2018-10-31  117.754211\n",
              "2  2018-11-30  117.774895\n",
              "3  2018-12-31  117.871895\n",
              "4  2019-01-31  117.907425\n",
              "..        ...         ...\n",
              "95 2026-08-31  123.248222\n",
              "96 2026-09-30  123.210144\n",
              "97 2026-10-31  123.269417\n",
              "98 2026-11-30  123.183388\n",
              "99 2026-12-31  122.826614\n",
              "\n",
              "[100 rows x 2 columns]"
            ],
            "text/html": [
              "\n",
              "  <div id=\"df-1fc34bf5-4669-456c-b693-28ac2c259c6d\">\n",
              "    <div class=\"colab-df-container\">\n",
              "      <div>\n",
              "<style scoped>\n",
              "    .dataframe tbody tr th:only-of-type {\n",
              "        vertical-align: middle;\n",
              "    }\n",
              "\n",
              "    .dataframe tbody tr th {\n",
              "        vertical-align: top;\n",
              "    }\n",
              "\n",
              "    .dataframe thead th {\n",
              "        text-align: right;\n",
              "    }\n",
              "</style>\n",
              "<table border=\"1\" class=\"dataframe\">\n",
              "  <thead>\n",
              "    <tr style=\"text-align: right;\">\n",
              "      <th></th>\n",
              "      <th>Date</th>\n",
              "      <th>price</th>\n",
              "    </tr>\n",
              "  </thead>\n",
              "  <tbody>\n",
              "    <tr>\n",
              "      <th>0</th>\n",
              "      <td>2018-09-30</td>\n",
              "      <td>117.666496</td>\n",
              "    </tr>\n",
              "    <tr>\n",
              "      <th>1</th>\n",
              "      <td>2018-10-31</td>\n",
              "      <td>117.754211</td>\n",
              "    </tr>\n",
              "    <tr>\n",
              "      <th>2</th>\n",
              "      <td>2018-11-30</td>\n",
              "      <td>117.774895</td>\n",
              "    </tr>\n",
              "    <tr>\n",
              "      <th>3</th>\n",
              "      <td>2018-12-31</td>\n",
              "      <td>117.871895</td>\n",
              "    </tr>\n",
              "    <tr>\n",
              "      <th>4</th>\n",
              "      <td>2019-01-31</td>\n",
              "      <td>117.907425</td>\n",
              "    </tr>\n",
              "    <tr>\n",
              "      <th>...</th>\n",
              "      <td>...</td>\n",
              "      <td>...</td>\n",
              "    </tr>\n",
              "    <tr>\n",
              "      <th>95</th>\n",
              "      <td>2026-08-31</td>\n",
              "      <td>123.248222</td>\n",
              "    </tr>\n",
              "    <tr>\n",
              "      <th>96</th>\n",
              "      <td>2026-09-30</td>\n",
              "      <td>123.210144</td>\n",
              "    </tr>\n",
              "    <tr>\n",
              "      <th>97</th>\n",
              "      <td>2026-10-31</td>\n",
              "      <td>123.269417</td>\n",
              "    </tr>\n",
              "    <tr>\n",
              "      <th>98</th>\n",
              "      <td>2026-11-30</td>\n",
              "      <td>123.183388</td>\n",
              "    </tr>\n",
              "    <tr>\n",
              "      <th>99</th>\n",
              "      <td>2026-12-31</td>\n",
              "      <td>122.826614</td>\n",
              "    </tr>\n",
              "  </tbody>\n",
              "</table>\n",
              "<p>100 rows × 2 columns</p>\n",
              "</div>\n",
              "      <button class=\"colab-df-convert\" onclick=\"convertToInteractive('df-1fc34bf5-4669-456c-b693-28ac2c259c6d')\"\n",
              "              title=\"Convert this dataframe to an interactive table.\"\n",
              "              style=\"display:none;\">\n",
              "        \n",
              "  <svg xmlns=\"http://www.w3.org/2000/svg\" height=\"24px\"viewBox=\"0 0 24 24\"\n",
              "       width=\"24px\">\n",
              "    <path d=\"M0 0h24v24H0V0z\" fill=\"none\"/>\n",
              "    <path d=\"M18.56 5.44l.94 2.06.94-2.06 2.06-.94-2.06-.94-.94-2.06-.94 2.06-2.06.94zm-11 1L8.5 8.5l.94-2.06 2.06-.94-2.06-.94L8.5 2.5l-.94 2.06-2.06.94zm10 10l.94 2.06.94-2.06 2.06-.94-2.06-.94-.94-2.06-.94 2.06-2.06.94z\"/><path d=\"M17.41 7.96l-1.37-1.37c-.4-.4-.92-.59-1.43-.59-.52 0-1.04.2-1.43.59L10.3 9.45l-7.72 7.72c-.78.78-.78 2.05 0 2.83L4 21.41c.39.39.9.59 1.41.59.51 0 1.02-.2 1.41-.59l7.78-7.78 2.81-2.81c.8-.78.8-2.07 0-2.86zM5.41 20L4 18.59l7.72-7.72 1.47 1.35L5.41 20z\"/>\n",
              "  </svg>\n",
              "      </button>\n",
              "      \n",
              "  <style>\n",
              "    .colab-df-container {\n",
              "      display:flex;\n",
              "      flex-wrap:wrap;\n",
              "      gap: 12px;\n",
              "    }\n",
              "\n",
              "    .colab-df-convert {\n",
              "      background-color: #E8F0FE;\n",
              "      border: none;\n",
              "      border-radius: 50%;\n",
              "      cursor: pointer;\n",
              "      display: none;\n",
              "      fill: #1967D2;\n",
              "      height: 32px;\n",
              "      padding: 0 0 0 0;\n",
              "      width: 32px;\n",
              "    }\n",
              "\n",
              "    .colab-df-convert:hover {\n",
              "      background-color: #E2EBFA;\n",
              "      box-shadow: 0px 1px 2px rgba(60, 64, 67, 0.3), 0px 1px 3px 1px rgba(60, 64, 67, 0.15);\n",
              "      fill: #174EA6;\n",
              "    }\n",
              "\n",
              "    [theme=dark] .colab-df-convert {\n",
              "      background-color: #3B4455;\n",
              "      fill: #D2E3FC;\n",
              "    }\n",
              "\n",
              "    [theme=dark] .colab-df-convert:hover {\n",
              "      background-color: #434B5C;\n",
              "      box-shadow: 0px 1px 3px 1px rgba(0, 0, 0, 0.15);\n",
              "      filter: drop-shadow(0px 1px 2px rgba(0, 0, 0, 0.3));\n",
              "      fill: #FFFFFF;\n",
              "    }\n",
              "  </style>\n",
              "\n",
              "      <script>\n",
              "        const buttonEl =\n",
              "          document.querySelector('#df-1fc34bf5-4669-456c-b693-28ac2c259c6d button.colab-df-convert');\n",
              "        buttonEl.style.display =\n",
              "          google.colab.kernel.accessAllowed ? 'block' : 'none';\n",
              "\n",
              "        async function convertToInteractive(key) {\n",
              "          const element = document.querySelector('#df-1fc34bf5-4669-456c-b693-28ac2c259c6d');\n",
              "          const dataTable =\n",
              "            await google.colab.kernel.invokeFunction('convertToInteractive',\n",
              "                                                     [key], {});\n",
              "          if (!dataTable) return;\n",
              "\n",
              "          const docLinkHtml = 'Like what you see? Visit the ' +\n",
              "            '<a target=\"_blank\" href=https://colab.research.google.com/notebooks/data_table.ipynb>data table notebook</a>'\n",
              "            + ' to learn more about interactive tables.';\n",
              "          element.innerHTML = '';\n",
              "          dataTable['output_type'] = 'display_data';\n",
              "          await google.colab.output.renderOutput(dataTable, element);\n",
              "          const docLink = document.createElement('div');\n",
              "          docLink.innerHTML = docLinkHtml;\n",
              "          element.appendChild(docLink);\n",
              "        }\n",
              "      </script>\n",
              "    </div>\n",
              "  </div>\n",
              "  "
            ]
          },
          "metadata": {},
          "execution_count": 78
        }
      ]
    },
    {
      "cell_type": "code",
      "source": [
        "original.plot(x='Date',y='price')\n",
        "original= pd.concat([original,df_forecast],axis=0)\n",
        "original.plot(x='Date',y='price')\n",
        "#f_forecast.plot(x='Date',y='price')\n"
      ],
      "metadata": {
        "colab": {
          "base_uri": "https://localhost:8080/",
          "height": 871
        },
        "id": "RLBZ0Dddla_5",
        "outputId": "7cf0f198-8d9b-4f15-a546-215b8849af05"
      },
      "execution_count": 79,
      "outputs": [
        {
          "output_type": "execute_result",
          "data": {
            "text/plain": [
              "<Axes: xlabel='Date'>"
            ]
          },
          "metadata": {},
          "execution_count": 79
        },
        {
          "output_type": "display_data",
          "data": {
            "text/plain": [
              "<Figure size 640x480 with 1 Axes>"
            ],
            "image/png": "[encoded data removed]"
          },
          "metadata": {}
        },
        {
          "output_type": "display_data",
          "data": {
            "text/plain": [
              "<Figure size 640x480 with 1 Axes>"
            ],
            "image/png": "[encoded data removed]"
          },
          "metadata": {}
        }
      ]
    },
    {
      "cell_type": "code",
      "source": [
        "from math import sqrt\n",
        "from sklearn.metrics import mean_squared_error\n",
        "rmse = sqrt(mean_squared_error(original.iloc[:len(df_forecast), 1], df_forecast.iloc[:, 1]))  #calculating rsme(root mean square error)"
      ],
      "metadata": {
        "id": "-CtetMOcZAKl"
      },
      "execution_count": 80,
      "outputs": []
    },
    {
      "cell_type": "code",
      "source": [
        "rmse"
      ],
      "metadata": {
        "id": "LtFAqmkbZYci",
        "outputId": "d21ad997-77ee-4b54-bace-c6712189509d",
        "colab": {
          "base_uri": "https://localhost:8080/"
        }
      },
      "execution_count": 81,
      "outputs": [
        {
          "output_type": "execute_result",
          "data": {
            "text/plain": [
              "10.28022083908127"
            ]
          },
          "metadata": {},
          "execution_count": 81
        }
      ]
    },
    {
      "cell_type": "code",
      "source": [
        "accuracy=100-rmse"
      ],
      "metadata": {
        "id": "OJZsi7pCZZWi"
      },
      "execution_count": 82,
      "outputs": []
    },
    {
      "cell_type": "code",
      "source": [
        "accuracy"
      ],
      "metadata": {
        "id": "YIlIma8zZre_",
        "outputId": "c9d6aab6-8a47-4f85-f8a4-6a66d274c066",
        "colab": {
          "base_uri": "https://localhost:8080/"
        }
      },
      "execution_count": 83,
      "outputs": [
        {
          "output_type": "execute_result",
          "data": {
            "text/plain": [
              "89.71977916091873"
            ]
          },
          "metadata": {},
          "execution_count": 83
        }
      ]
    },
    {
      "cell_type": "code",
      "source": [],
      "metadata": {
        "id": "q4qT72znZu7v"
      },
      "execution_count": 83,
      "outputs": []
    }
  ]
}
